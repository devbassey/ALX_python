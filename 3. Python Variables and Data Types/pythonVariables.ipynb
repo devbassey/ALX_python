{
 "cells": [
  {
   "cell_type": "markdown",
   "id": "f93aafbd",
   "metadata": {},
   "source": [
    "# PYTHON VARIABLES AND DATA TYPES"
   ]
  },
  {
   "cell_type": "markdown",
   "id": "c5373a92",
   "metadata": {},
   "source": [
    "## Learning Objectives\n",
    "\n",
    "By the end of this train, you should be able to:\n",
    "\n",
    "Understand how to create a variable in Python using the PEP 8 naming conventions.\n",
    "Know what the different data types are and their characteristics"
   ]
  },
  {
   "cell_type": "code",
   "execution_count": null,
   "id": "a6b0dc2b",
   "metadata": {
    "vscode": {
     "languageId": "plaintext"
    }
   },
   "outputs": [],
   "source": []
  }
 ],
 "metadata": {
  "language_info": {
   "name": "python"
  }
 },
 "nbformat": 4,
 "nbformat_minor": 5
}
